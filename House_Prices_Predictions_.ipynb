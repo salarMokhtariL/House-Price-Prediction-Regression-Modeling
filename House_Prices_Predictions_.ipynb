{
  "nbformat": 4,
  "nbformat_minor": 0,
  "metadata": {
    "colab": {
      "private_outputs": true,
      "provenance": [],
      "authorship_tag": "ABX9TyPiSLAN/Gos00LOdQriRBYJ",
      "include_colab_link": true
    },
    "kernelspec": {
      "name": "python3",
      "display_name": "Python 3"
    },
    "language_info": {
      "name": "python"
    }
  },
  "cells": [
    {
      "cell_type": "markdown",
      "metadata": {
        "id": "view-in-github",
        "colab_type": "text"
      },
      "source": [
        "<a href=\"https://colab.research.google.com/github/salarMokhtariL/House-Prices/blob/main/House_Prices_Predictions_.ipynb\" target=\"_parent\"><img src=\"https://colab.research.google.com/assets/colab-badge.svg\" alt=\"Open In Colab\"/></a>"
      ]
    },
    {
      "cell_type": "markdown",
      "source": [
        "# Installing Required Libraries"
      ],
      "metadata": {
        "id": "OfDxum1TCYzu"
      }
    },
    {
      "cell_type": "code",
      "execution_count": null,
      "metadata": {
        "id": "koQ4n7eTCBO2"
      },
      "outputs": [],
      "source": [
        "!pip install pandas numpy torch torchvision scikit-learn matplotlib"
      ]
    },
    {
      "cell_type": "markdown",
      "source": [
        "# Importing Required Libraries"
      ],
      "metadata": {
        "id": "0IgCxvsACkMm"
      }
    },
    {
      "cell_type": "code",
      "source": [
        "import pandas as pd\n",
        "import numpy as np\n",
        "import torch\n",
        "\n",
        "from torch import nn, optim\n",
        "from torch.utils.data import Dataset, DataLoader\n",
        "from sklearn.preprocessing import MinMaxScaler\n",
        "from sklearn.model_selection import train_test_split\n",
        "\n",
        "import matplotlib.pyplot as plt"
      ],
      "metadata": {
        "id": "4ZOOAPRLCbeV"
      },
      "execution_count": null,
      "outputs": []
    },
    {
      "cell_type": "markdown",
      "source": [
        "# Loading the Data"
      ],
      "metadata": {
        "id": "HqePp1YyC_F7"
      }
    },
    {
      "cell_type": "code",
      "source": [
        "train_df = pd.read_csv('https://github.com/salarMokhtariL/House-Prices/raw/main/Dataset/train.csv')\n",
        "\n",
        "test_df = pd.read_csv('https://github.com/salarMokhtariL/House-Prices/raw/main/Dataset/test.csv')"
      ],
      "metadata": {
        "id": "7UNompG1Cmn_"
      },
      "execution_count": null,
      "outputs": []
    },
    {
      "cell_type": "markdown",
      "source": [
        "# Data Preprocessing"
      ],
      "metadata": {
        "id": "GitiCRoCDB7a"
      }
    },
    {
      "cell_type": "code",
      "source": [
        "# Drop the Id column\n",
        "train_df.drop('Id', axis=1, inplace=True)\n",
        "test_df.drop('Id', axis=1, inplace=True)\n",
        "\n",
        "# Save the target variable\n",
        "target = train_df['SalePrice']\n",
        "train_df.drop('SalePrice', axis=1, inplace=True)\n",
        "\n",
        "# Concatenate train and test data\n",
        "all_data = pd.concat([train_df, test_df], axis=0)\n",
        "\n",
        "# Select only numerical columns\n",
        "numerical_cols = all_data.select_dtypes(include=np.number).columns.tolist()\n",
        "all_data = all_data[numerical_cols]\n",
        "\n",
        "# Fill missing values with zeros\n",
        "all_data.fillna(0, inplace=True)\n",
        "\n",
        "# Scale the data using MinMaxScaler\n",
        "scaler = MinMaxScaler()\n",
        "all_data = scaler.fit_transform(all_data)\n",
        "\n",
        "# Split back into train and test data\n",
        "train_data = all_data[:len(train_df)]\n",
        "test_data = all_data[len(train_df):]\n",
        "\n",
        "# Convert data to tensors\n",
        "train_data = torch.FloatTensor(train_data)\n",
        "target = torch.FloatTensor(target.values)\n",
        "test_data = torch.FloatTensor(test_data)"
      ],
      "metadata": {
        "id": "aFi-kgWxDBk7"
      },
      "execution_count": null,
      "outputs": []
    },
    {
      "cell_type": "markdown",
      "source": [
        "# Creating the Model"
      ],
      "metadata": {
        "id": "ga3InuvNDLe1"
      }
    },
    {
      "cell_type": "code",
      "source": [
        "class HousePricesModel(nn.Module):\n",
        "    def __init__(self, input_dim):\n",
        "        super().__init__()\n",
        "        self.fc1 = nn.Linear(input_dim, 128)\n",
        "        self.fc2 = nn.Linear(128, 64)\n",
        "        self.fc3 = nn.Linear(64, 1)\n",
        "        self.relu = nn.ReLU()\n",
        "        self.dropout = nn.Dropout(p=0.2)\n",
        "\n",
        "    def forward(self, x):\n",
        "        out = self.fc1(x)\n",
        "        out = self.relu(out)\n",
        "        out = self.dropout(out)\n",
        "        out = self.fc2(out)\n",
        "        out = self.relu(out)\n",
        "        out = self.dropout(out)\n",
        "        out = self.fc3(out)\n",
        "        return out"
      ],
      "metadata": {
        "id": "MqWWQeYdC-l-"
      },
      "execution_count": null,
      "outputs": []
    },
    {
      "cell_type": "markdown",
      "source": [
        "# Training the Model"
      ],
      "metadata": {
        "id": "Rnp40Z80DRv0"
      }
    },
    {
      "cell_type": "code",
      "source": [
        "# Split train data into train and validation sets\n",
        "train_data, val_data, target, val_target = train_test_split(train_data, target, test_size=0.2, random_state=42)\n",
        "\n",
        "# Create datasets and data loaders\n",
        "train_dataset = torch.utils.data.TensorDataset(train_data, target)\n",
        "val_dataset = torch.utils.data.TensorDataset(val_data, val_target)\n",
        "train_loader = DataLoader(train_dataset, batch_size=32, shuffle=True)\n",
        "val_loader = DataLoader(val_dataset, batch_size=32, shuffle=False)\n",
        "\n",
        "# Create model and optimizer\n",
        "model = HousePricesModel(train_data.shape[1])\n",
        "criterion = nn.MSELoss()\n",
        "optimizer = optim.Adam(model.parameters(), lr=0.001)\n",
        "\n",
        "# Train the model\n",
        "num_epochs = 200\n",
        "train_losses = []\n",
        "val_losses = []\n",
        "for epoch in range(num_epochs):\n",
        "    train_loss = 0\n",
        "    val_loss = 0\n",
        "    model.train()\n",
        "    for data, target in train_loader:\n",
        "        optimizer.zero_grad()\n",
        "        output = model(data)\n",
        "        loss = criterion(output.view(-1), target)\n",
        "        loss.backward()\n",
        "        optimizer.step()\n",
        "        train_loss += loss.item() * data.shape[0]\n",
        "    train_loss /= len(train_loader.dataset)\n",
        "    train_losses.append(train_loss)\n",
        "    \n",
        "    model.eval()\n",
        "    with torch.no_grad():\n",
        "        for data, target in val_loader:\n",
        "            output = model(data)\n",
        "            loss = criterion(output.view(-1), target)\n",
        "            val_loss += loss.item() * data.shape[0]\n",
        "        val_loss /= len(val_loader.dataset)\n",
        "        val_losses.append(val_loss)\n",
        "        \n",
        "    if epoch % 20 == 0:\n",
        "        print(f'Epoch [{epoch+1}/{num_epochs}], Train Loss: {train_loss:.4f}, Validation Loss: {val_loss:.4f}')\n",
        "\n",
        "plt.plot(train_losses, label='Training Loss')\n",
        "plt.plot(val_losses, label='Validation Loss')\n",
        "plt.legend()\n",
        "plt.show()"
      ],
      "metadata": {
        "id": "YjAHLaacDOkt"
      },
      "execution_count": null,
      "outputs": []
    },
    {
      "cell_type": "markdown",
      "source": [
        "# Making Predictions on Test Data"
      ],
      "metadata": {
        "id": "nzq4_W4YDddt"
      }
    },
    {
      "cell_type": "code",
      "source": [
        "# Make predictions on test data\n",
        "model.eval()\n",
        "with torch.no_grad():\n",
        "    predictions = model(test_data)\n",
        "\n",
        "# Convert predictions to numpy array\n",
        "predictions = predictions.view(-1).numpy()\n",
        "\n",
        "# Save predictions to a CSV file\n",
        "submission_df = pd.DataFrame({'Id': range(1461, 2920), 'SalePrice': predictions})\n",
        "submission_df.to_csv('submission.csv', index=False)\n"
      ],
      "metadata": {
        "id": "lDA1yaMeDU5S"
      },
      "execution_count": null,
      "outputs": []
    },
    {
      "cell_type": "code",
      "source": [],
      "metadata": {
        "id": "-E1SWdYuDfXL"
      },
      "execution_count": null,
      "outputs": []
    }
  ]
}