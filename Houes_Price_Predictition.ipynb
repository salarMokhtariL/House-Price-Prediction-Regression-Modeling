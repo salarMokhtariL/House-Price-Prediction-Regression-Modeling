{
  "nbformat": 4,
  "nbformat_minor": 0,
  "metadata": {
    "colab": {
      "provenance": [],
      "authorship_tag": "ABX9TyNkXmS8/ugS5710XqUrwY9N",
      "include_colab_link": true
    },
    "kernelspec": {
      "name": "python3",
      "display_name": "Python 3"
    },
    "language_info": {
      "name": "python"
    }
  },
  "cells": [
    {
      "cell_type": "markdown",
      "metadata": {
        "id": "view-in-github",
        "colab_type": "text"
      },
      "source": [
        "<a href=\"https://colab.research.google.com/github/salarMokhtariL/House-Prices/blob/main/Houes_Price_Predictition.ipynb\" target=\"_parent\"><img src=\"https://colab.research.google.com/assets/colab-badge.svg\" alt=\"Open In Colab\"/></a>"
      ]
    },
    {
      "cell_type": "markdown",
      "source": [
        "# Houes Price Predictition\n",
        "\n",
        "> By Salar Mokhtari *Laleh*"
      ],
      "metadata": {
        "id": "HG1qZthhmmr_"
      }
    },
    {
      "cell_type": "markdown",
      "source": [
        "# Import the necessary libraries"
      ],
      "metadata": {
        "id": "J_0OOj2unyEO"
      }
    },
    {
      "cell_type": "code",
      "source": [
        "import pandas as pd\n",
        "import numpy as np\n",
        "\n",
        "import torch\n",
        "import torch.nn as nn\n",
        "import torch.optim as optim\n",
        "\n",
        "from torch.utils.data import Dataset, DataLoader\n",
        "from sklearn.model_selection import train_test_split"
      ],
      "metadata": {
        "id": "c_n87kkCmK-v"
      },
      "execution_count": 1,
      "outputs": []
    },
    {
      "cell_type": "code",
      "source": [
        "train_data = pd.read_csv('https://raw.githubusercontent.com/salarMokhtariL/House-Prices/main/Dataset/train.csv')\n",
        "test_data = pd.read_csv('https://raw.githubusercontent.com/salarMokhtariL/House-Prices/main/Dataset/test.csv')\n",
        "\n",
        "# Preprocess the data\n",
        "train_data = train_data.select_dtypes(include=np.number)\n",
        "test_data = test_data.select_dtypes(include=np.number)\n",
        "\n",
        "# Separate the target variable (SalePrice) from the training data\n",
        "y_train = train_data['SalePrice']\n",
        "X_train = train_data.drop('SalePrice', axis=1)\n",
        "\n",
        "# Split the training data into training and validation sets\n",
        "X_train, X_val, y_train, y_val = train_test_split(X_train, y_train, test_size=0.2, random_state=42)\n"
      ],
      "metadata": {
        "id": "_mKxY9PEnBXE"
      },
      "execution_count": 2,
      "outputs": []
    },
    {
      "cell_type": "code",
      "source": [
        "class HousePriceDataset(Dataset):\n",
        "    def __init__(self, X, y):\n",
        "        self.X = torch.tensor(X.values, dtype=torch.float32)\n",
        "        self.y = torch.tensor(y.values, dtype=torch.float32)\n",
        "        \n",
        "    def __getitem__(self, index):\n",
        "        return self.X[index], self.y[index]\n",
        "    \n",
        "    def __len__(self):\n",
        "        return len(self.X)\n",
        "\n",
        "# Define the data loaders\n",
        "train_dataset = HousePriceDataset(X_train, y_train)\n",
        "val_dataset = HousePriceDataset(X_val, y_val)\n",
        "batch_size = 64\n",
        "train_loader = DataLoader(train_dataset, batch_size=batch_size, shuffle=True)\n",
        "val_loader = DataLoader(val_dataset, batch_size=batch_size)"
      ],
      "metadata": {
        "id": "C7D_hXy4n58F"
      },
      "execution_count": 3,
      "outputs": []
    },
    {
      "cell_type": "code",
      "source": [
        "class HousePriceModel(nn.Module):\n",
        "    def __init__(self, input_size, hidden_size, output_size):\n",
        "        super().__init__()\n",
        "        self.fc1 = nn.Linear(input_size, hidden_size)\n",
        "        self.fc2 = nn.Linear(hidden_size, hidden_size)\n",
        "        self.fc3 = nn.Linear(hidden_size, hidden_size)\n",
        "        self.fc4 = nn.Linear(hidden_size, output_size)\n",
        "        \n",
        "    def forward(self, x):\n",
        "        x = torch.relu(self.fc1(x))\n",
        "        x = torch.relu(self.fc2(x))\n",
        "        x = torch.relu(self.fc3(x))\n",
        "        x = self.fc4(x)\n",
        "        return x\n",
        "\n",
        "# Define the model\n",
        "input_size = X_train.shape[1]\n",
        "hidden_size = 64\n",
        "output_size = 1\n",
        "model = HousePriceModel(input_size, hidden_size, output_size)\n"
      ],
      "metadata": {
        "id": "bkXhLPSFn86e"
      },
      "execution_count": 4,
      "outputs": []
    },
    {
      "cell_type": "code",
      "source": [
        "criterion = nn.MSELoss()\n",
        "optimizer = optim.Adam(model.parameters())"
      ],
      "metadata": {
        "id": "aQZij_8dn_4L"
      },
      "execution_count": 5,
      "outputs": []
    },
    {
      "cell_type": "code",
      "source": [
        "# Train the model\n",
        "epochs = 100\n",
        "for epoch in range(epochs):\n",
        "    running_loss = 0.0\n",
        "    for inputs, labels in train_loader:\n",
        "        optimizer.zero_grad()\n",
        "        outputs = model(inputs)\n",
        "        loss = criterion(outputs, labels.unsqueeze(1))\n",
        "        loss.backward()\n",
        "        optimizer.step()\n",
        "        running_loss += loss.item()\n",
        "    print(f\"Epoch {epoch+1} - Training loss: {running_loss/len(train_loader):.4f}\")"
      ],
      "metadata": {
        "colab": {
          "base_uri": "https://localhost:8080/"
        },
        "id": "QWYWGbWhoBvY",
        "outputId": "1267956f-94a4-4131-dd16-fa89cd5942cc"
      },
      "execution_count": 6,
      "outputs": [
        {
          "output_type": "stream",
          "name": "stdout",
          "text": [
            "Epoch 1 - Training loss: nan\n",
            "Epoch 2 - Training loss: nan\n",
            "Epoch 3 - Training loss: nan\n",
            "Epoch 4 - Training loss: nan\n",
            "Epoch 5 - Training loss: nan\n",
            "Epoch 6 - Training loss: nan\n",
            "Epoch 7 - Training loss: nan\n",
            "Epoch 8 - Training loss: nan\n",
            "Epoch 9 - Training loss: nan\n",
            "Epoch 10 - Training loss: nan\n",
            "Epoch 11 - Training loss: nan\n",
            "Epoch 12 - Training loss: nan\n",
            "Epoch 13 - Training loss: nan\n",
            "Epoch 14 - Training loss: nan\n",
            "Epoch 15 - Training loss: nan\n",
            "Epoch 16 - Training loss: nan\n",
            "Epoch 17 - Training loss: nan\n",
            "Epoch 18 - Training loss: nan\n",
            "Epoch 19 - Training loss: nan\n",
            "Epoch 20 - Training loss: nan\n",
            "Epoch 21 - Training loss: nan\n",
            "Epoch 22 - Training loss: nan\n",
            "Epoch 23 - Training loss: nan\n",
            "Epoch 24 - Training loss: nan\n",
            "Epoch 25 - Training loss: nan\n",
            "Epoch 26 - Training loss: nan\n",
            "Epoch 27 - Training loss: nan\n",
            "Epoch 28 - Training loss: nan\n",
            "Epoch 29 - Training loss: nan\n",
            "Epoch 30 - Training loss: nan\n",
            "Epoch 31 - Training loss: nan\n",
            "Epoch 32 - Training loss: nan\n",
            "Epoch 33 - Training loss: nan\n",
            "Epoch 34 - Training loss: nan\n",
            "Epoch 35 - Training loss: nan\n",
            "Epoch 36 - Training loss: nan\n",
            "Epoch 37 - Training loss: nan\n",
            "Epoch 38 - Training loss: nan\n",
            "Epoch 39 - Training loss: nan\n",
            "Epoch 40 - Training loss: nan\n",
            "Epoch 41 - Training loss: nan\n",
            "Epoch 42 - Training loss: nan\n",
            "Epoch 43 - Training loss: nan\n",
            "Epoch 44 - Training loss: nan\n",
            "Epoch 45 - Training loss: nan\n",
            "Epoch 46 - Training loss: nan\n",
            "Epoch 47 - Training loss: nan\n",
            "Epoch 48 - Training loss: nan\n",
            "Epoch 49 - Training loss: nan\n",
            "Epoch 50 - Training loss: nan\n",
            "Epoch 51 - Training loss: nan\n",
            "Epoch 52 - Training loss: nan\n",
            "Epoch 53 - Training loss: nan\n",
            "Epoch 54 - Training loss: nan\n",
            "Epoch 55 - Training loss: nan\n",
            "Epoch 56 - Training loss: nan\n",
            "Epoch 57 - Training loss: nan\n",
            "Epoch 58 - Training loss: nan\n",
            "Epoch 59 - Training loss: nan\n",
            "Epoch 60 - Training loss: nan\n",
            "Epoch 61 - Training loss: nan\n",
            "Epoch 62 - Training loss: nan\n",
            "Epoch 63 - Training loss: nan\n",
            "Epoch 64 - Training loss: nan\n",
            "Epoch 65 - Training loss: nan\n",
            "Epoch 66 - Training loss: nan\n",
            "Epoch 67 - Training loss: nan\n",
            "Epoch 68 - Training loss: nan\n",
            "Epoch 69 - Training loss: nan\n",
            "Epoch 70 - Training loss: nan\n",
            "Epoch 71 - Training loss: nan\n",
            "Epoch 72 - Training loss: nan\n",
            "Epoch 73 - Training loss: nan\n",
            "Epoch 74 - Training loss: nan\n",
            "Epoch 75 - Training loss: nan\n",
            "Epoch 76 - Training loss: nan\n",
            "Epoch 77 - Training loss: nan\n",
            "Epoch 78 - Training loss: nan\n",
            "Epoch 79 - Training loss: nan\n",
            "Epoch 80 - Training loss: nan\n",
            "Epoch 81 - Training loss: nan\n",
            "Epoch 82 - Training loss: nan\n",
            "Epoch 83 - Training loss: nan\n",
            "Epoch 84 - Training loss: nan\n",
            "Epoch 85 - Training loss: nan\n",
            "Epoch 86 - Training loss: nan\n",
            "Epoch 87 - Training loss: nan\n",
            "Epoch 88 - Training loss: nan\n",
            "Epoch 89 - Training loss: nan\n",
            "Epoch 90 - Training loss: nan\n",
            "Epoch 91 - Training loss: nan\n",
            "Epoch 92 - Training loss: nan\n",
            "Epoch 93 - Training loss: nan\n",
            "Epoch 94 - Training loss: nan\n",
            "Epoch 95 - Training loss: nan\n",
            "Epoch 96 - Training loss: nan\n",
            "Epoch 97 - Training loss: nan\n",
            "Epoch 98 - Training loss: nan\n",
            "Epoch 99 - Training loss: nan\n",
            "Epoch 100 - Training loss: nan\n"
          ]
        }
      ]
    },
    {
      "cell_type": "code",
      "source": [
        "# Evaluate the model on the validation set\n",
        "with torch.no_grad():\n",
        "    running_loss = 0.0\n",
        "    for inputs, labels in val_loader:\n",
        "        outputs = model(inputs)\n",
        "        loss = criterion(outputs, labels.unsqueeze(1))\n",
        "        running_loss += loss.item()\n",
        "    print(f\"Validation loss: {running_loss/len(val_loader):.4f}\")"
      ],
      "metadata": {
        "colab": {
          "base_uri": "https://localhost:8080/"
        },
        "id": "AjRY55bAoW39",
        "outputId": "b81a71a5-7e7a-49b6-e6f2-63a718399e8a"
      },
      "execution_count": 7,
      "outputs": [
        {
          "output_type": "stream",
          "name": "stdout",
          "text": [
            "Validation loss: nan\n"
          ]
        }
      ]
    },
    {
      "cell_type": "code",
      "source": [
        "# Evaluate the model on the validation set\n",
        "with torch.no_grad():\n",
        "    running_loss = 0.0\n",
        "    for inputs, labels in val_loader:\n",
        "        outputs = model(inputs)\n",
        "        loss = criterion(outputs, labels.unsqueeze(1))\n",
        "        running_loss += loss.item()\n",
        "    print(f\"Validation loss: {running_loss/len(val_loader):.4f}\")"
      ],
      "metadata": {
        "colab": {
          "base_uri": "https://localhost:8080/"
        },
        "id": "oX9b9skloYma",
        "outputId": "f34283e4-f1a1-4a30-ad7c-28d2164c67ff"
      },
      "execution_count": 8,
      "outputs": [
        {
          "output_type": "stream",
          "name": "stdout",
          "text": [
            "Validation loss: nan\n"
          ]
        }
      ]
    },
    {
      "cell_type": "code",
      "source": [],
      "metadata": {
        "id": "vQl5Waf6oays"
      },
      "execution_count": null,
      "outputs": []
    }
  ]
}